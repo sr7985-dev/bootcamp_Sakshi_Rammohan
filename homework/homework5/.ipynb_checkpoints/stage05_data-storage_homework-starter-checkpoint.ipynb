{
 "cells": [
  {
   "cell_type": "markdown",
   "id": "d7da3f6b",
   "metadata": {},
   "source": [
    "# Homework Starter — Stage 05: Data Storage\n",
    "Name: \n",
    "Date: \n",
    "\n",
    "Objectives:\n",
    "- Env-driven paths to `data/raw/` and `data/processed/`\n",
    "- Save CSV and Parquet; reload and validate\n",
    "- Abstract IO with utility functions; document choices"
   ]
  },
  {
   "cell_type": "code",
   "execution_count": null,
   "id": "b86e081e",
   "metadata": {},
   "outputs": [],
   "source": [
    "import os, pathlib, datetime as dt\n",
    "import pandas as pd\n",
    "from dotenv import load_dotenv\n",
    "\n",
    "load_dotenv()\n",
    "RAW = pathlib.Path(os.getenv('DATA_DIR_RAW', 'data/raw'))\n",
    "PROC = pathlib.Path(os.getenv('DATA_DIR_PROCESSED', 'data/processed'))\n",
    "RAW.mkdir(parents=True, exist_ok=True)\n",
    "PROC.mkdir(parents=True, exist_ok=True)\n",
    "print('RAW ->', RAW.resolve())\n",
    "print('PROC ->', PROC.resolve())"
   ]
  },
  {
   "cell_type": "markdown",
   "id": "10a8abd6",
   "metadata": {},
   "source": [
    "## 1) Create or Load a Sample DataFrame\n",
    "You may reuse data from prior stages or create a small synthetic dataset."
   ]
  },
  {
   "cell_type": "code",
   "execution_count": null,
   "id": "4b50bc9d",
   "metadata": {},
   "outputs": [],
   "source": [
    "import os, pathlib, datetime as dt\n",
    "import pandas as pd\n",
    "import numpy as np\n",
    "from dotenv import load_dotenv\n",
    "\n",
    "load_dotenv()\n",
    "RAW = pathlib.Path(os.getenv('DATA_DIR_RAW', 'data/raw'))\n",
    "PROC = pathlib.Path(os.getenv('DATA_DIR_PROCESSED', 'data/processed'))\n",
    "RAW.mkdir(parents=True, exist_ok=True)\n",
    "PROC.mkdir(parents=True, exist_ok=True)\n",
    "print('RAW ->', RAW.resolve())\n",
    "print('PROC ->', PROC.resolve())\n",
    "\n",
    "dates = pd.date_range('2024-01-01', periods=20, freq='D')\n",
    "df = pd.DataFrame({'date': dates, 'ticker': ['AAPL']*20, 'price': 150 + np.random.randn(20).cumsum()})\n",
    "df.head()\n"
   ]
  },
  {
   "cell_type": "markdown",
   "id": "b3010c7d",
   "metadata": {},
   "source": [
    "## 2) Save CSV to data/raw/ and Parquet to data/processed/ (TODO)\n",
    "- Use timestamped filenames.\n",
    "- Handle missing Parquet engine gracefully."
   ]
  },
  {
   "cell_type": "code",
   "execution_count": null,
   "id": "49dba9f4",
   "metadata": {},
   "outputs": [],
   "source": [
    "def ts(): return dt.datetime.now().strftime('%Y%m%d-%H%M%S')\n",
    "\n",
    "# TODO: Save CSV\n",
    "csv_path = RAW / f\"sample_{ts()}.csv\"\n",
    "df.to_csv(csv_path, index=False)\n",
    "csv_path\n",
    "\n",
    "pq_path = PROC / f\"sample_{ts()}.parquet\"\n",
    "try:\n",
    "    df.to_parquet(pq_path)\n",
    "except Exception as e:\n",
    "    print('Parquet engine not available. Install pyarrow or fastparquet to complete this step.')\n",
    "    pq_path = None\n",
    "pq_path"
   ]
  },
  {
   "cell_type": "markdown",
   "id": "444bd332",
   "metadata": {},
   "source": [
    "## 3) Reload and Validate (TODO)\n",
    "- Compare shapes and key dtypes."
   ]
  },
  {
   "cell_type": "code",
   "execution_count": null,
   "id": "9a6bbb59",
   "metadata": {},
   "outputs": [],
   "source": [
    "def validate_loaded(original, reloaded):\n",
    "    checks = {\n",
    "        'shape_equal': original.shape == reloaded.shape,\n",
    "        'date_is_datetime': pd.api.types.is_datetime64_any_dtype(reloaded['date']) if 'date' in reloaded.columns else False,\n",
    "        'price_is_numeric': pd.api.types.is_numeric_dtype(reloaded['price']) if 'price' in reloaded.columns else False,\n",
    "    }\n",
    "    return checks\n",
    "\n",
    "df_csv = pd.read_csv(csv_path, parse_dates=['date'])\n",
    "validate_loaded(df, df_csv)"
   ]
  },
  {
   "cell_type": "code",
   "execution_count": null,
   "id": "cd59bc1b",
   "metadata": {},
   "outputs": [],
   "source": [
    "if pq_path:\n",
    "    try:\n",
    "        df_pq = pd.read_parquet(pq_path)\n",
    "        validate_loaded(df, df_pq)\n",
    "    except Exception as e:\n",
    "        print('Parquet read failed:', e)"
   ]
  },
  {
   "cell_type": "markdown",
   "id": "792bb98f",
   "metadata": {},
   "source": [
    "## 4) Utilities (TODO)\n",
    "- Implement `detect_format`, `write_df`, `read_df`.\n",
    "- Use suffix to route; create parent dirs if needed; friendly errors for Parquet."
   ]
  },
  {
   "cell_type": "code",
   "execution_count": null,
   "id": "ed588c78",
   "metadata": {},
   "outputs": [],
   "source": [
    "import typing as t\n",
    "\n",
    "def detect_format(path: t.Union[str, pathlib.Path]):\n",
    "    s = str(path).lower()\n",
    "    if s.endswith('.csv'): return 'csv'\n",
    "    if s.endswith(('.parquet', '.pq', '.parq')): return 'parquet'\n",
    "    raise ValueError('Unsupported format: ' + s)\n",
    "\n",
    "def write_df(df: pd.DataFrame, path: t.Union[str, pathlib.Path]):\n",
    "    p = pathlib.Path(path); p.parent.mkdir(parents=True, exist_ok=True)\n",
    "    fmt = detect_format(p)\n",
    "    if fmt == 'csv':\n",
    "        df.to_csv(p, index=False)\n",
    "    else:\n",
    "        try:\n",
    "            df.to_parquet(p)\n",
    "        except Exception as e:\n",
    "            raise RuntimeError('Parquet engine not available. Install pyarrow or fastparquet.') from e\n",
    "    return p\n",
    "\n",
    "def read_df(path: t.Union[str, pathlib.Path]):\n",
    "    p = pathlib.Path(path)\n",
    "    fmt = detect_format(p)\n",
    "    if fmt == 'csv':\n",
    "        cols = pd.read_csv(p, nrows=0).columns\n",
    "        return pd.read_csv(p, parse_dates=['date']) if 'date' in cols else pd.read_csv(p)\n",
    "    else:\n",
    "        try:\n",
    "            return pd.read_parquet(p)\n",
    "        except Exception as e:\n",
    "            raise RuntimeError('Parquet engine not available. Install pyarrow or fastparquet.') from e\n"
   ]
  },
  {
   "cell_type": "markdown",
   "id": "934478c6",
   "metadata": {},
   "source": [
    "## 7) Documentation (README.md)\n",
    "\n",
    "### Data Storage\n",
    "\n",
    "- **data/raw/** → unmodified CSVs  \n",
    "- **data/processed/** → transformed datasets in Parquet  \n",
    "\n",
    "### Why both CSV and Parquet?\n",
    "- CSV: human-readable, universal.  \n",
    "- Parquet: efficient, columnar, faster for analysis.  \n",
    "\n",
    "### Environment Variables\n",
    "Paths are controlled via `.env`:\n"
   ]
  },
  {
   "cell_type": "code",
   "execution_count": null,
   "id": "56241c6e-a9e2-4953-aeb9-0aa553b95ec8",
   "metadata": {},
   "outputs": [],
   "source": []
  }
 ],
 "metadata": {
  "kernelspec": {
   "display_name": "Python 3 (ipykernel)",
   "language": "python",
   "name": "python3"
  },
  "language_info": {
   "codemirror_mode": {
    "name": "ipython",
    "version": 3
   },
   "file_extension": ".py",
   "mimetype": "text/x-python",
   "name": "python",
   "nbconvert_exporter": "python",
   "pygments_lexer": "ipython3",
   "version": "3.13.5"
  }
 },
 "nbformat": 4,
 "nbformat_minor": 5
}
