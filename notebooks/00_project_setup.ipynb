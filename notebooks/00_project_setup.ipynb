{
 "cells": [
  {
   "cell_type": "markdown",
   "metadata": {},
   "source": [
    "# Environment & Config Check"
   ]
  },
  {
   "cell_type": "code",
   "execution_count": null,
   "metadata": {},
   "outputs": [],
   "source": []
  },
  {
   "cell_type": "code",
   "execution_count": null,
   "metadata": {},
   "outputs": [],
   "source": [
    "# Credit Risk Assessment Project\n",
    "# Problem: Predict credit risk for a list of users for a company\n",
    "# Stakeholders: Risk management team\n",
    "# Goal: Provide a probability of default or risk score per user\n",
    "# Type of analysis: Predictive; output is a numeric metric per user\n",
    "# Deliverables: Trained model, Jupyter notebooks, documentation for stakeholders\n"
   ]
  },
  {
   "cell_type": "code",
   "execution_count": null,
   "metadata": {},
   "outputs": [],
   "source": [
    "from dotenv import load_dotenv\n",
    "import os\n",
    "import numpy as np\n",
    "\n",
    "load_dotenv()\n",
    "print(\"API_KEY exists:\", 'API_KEY' in os.environ)\n",
    "\n",
    "arr = np.array([1, 2, 3])\n",
    "print(\"Array sum:\", arr.sum())"
   ]
  }
 ],
 "metadata": {
  "kernelspec": {
   "display_name": "Python 3 (ipykernel)",
   "language": "python",
   "name": "python3"
  },
  "language_info": {
   "codemirror_mode": {
    "name": "ipython",
    "version": 3
   },
   "file_extension": ".py",
   "mimetype": "text/x-python",
   "name": "python",
   "nbconvert_exporter": "python",
   "pygments_lexer": "ipython3",
   "version": "3.13.5"
  }
 },
 "nbformat": 4,
 "nbformat_minor": 4
}
