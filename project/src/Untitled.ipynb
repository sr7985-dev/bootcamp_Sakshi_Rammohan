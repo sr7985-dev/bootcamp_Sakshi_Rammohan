{
 "cells": [
  {
   "cell_type": "code",
   "execution_count": 1,
   "id": "7a73ae0d-2472-4ce2-b125-e0eee46cd4fd",
   "metadata": {},
   "outputs": [
    {
     "name": "stdout",
     "output_type": "stream",
     "text": [
      "Writing ../src/cleaning.py\n"
     ]
    }
   ],
   "source": [
    "%%writefile ../src/cleaning.py\n",
    "import pandas as pd\n",
    "import numpy as np\n",
    "\n",
    "def fill_missing_median(df, columns):\n",
    "    for col in columns:\n",
    "        df[col].fillna(df[col].median(), inplace=True)\n",
    "    return df\n",
    "\n",
    "def drop_missing(df, columns=None):\n",
    "    if columns:\n",
    "        return df.dropna(subset=columns)\n",
    "    return df.dropna()\n",
    "\n",
    "def normalize_data(df, columns):\n",
    "    for col in columns:\n",
    "        min_val = df[col].min()\n",
    "        max_val = df[col].max()\n",
    "        df[col] = (df[col] - min_val) / (max_val - min_val)\n",
    "    return df\n"
   ]
  },
  {
   "cell_type": "code",
   "execution_count": null,
   "id": "cf013c5e-ad91-457b-986f-83b55a44c3fa",
   "metadata": {},
   "outputs": [],
   "source": []
  }
 ],
 "metadata": {
  "kernelspec": {
   "display_name": "Python 3 (ipykernel)",
   "language": "python",
   "name": "python3"
  },
  "language_info": {
   "codemirror_mode": {
    "name": "ipython",
    "version": 3
   },
   "file_extension": ".py",
   "mimetype": "text/x-python",
   "name": "python",
   "nbconvert_exporter": "python",
   "pygments_lexer": "ipython3",
   "version": "3.13.5"
  }
 },
 "nbformat": 4,
 "nbformat_minor": 5
}
